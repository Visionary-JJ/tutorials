{
 "cells": [
  {
   "cell_type": "markdown",
   "metadata": {},
   "source": [
    "# Traveling Salesman Problem (TSP)\n",
    "details: https://en.wikipedia.org/wiki/Travelling_salesman_problem"
   ]
  },
  {
   "cell_type": "code",
   "execution_count": 1,
   "metadata": {},
   "outputs": [],
   "source": [
    "import pandas as pd\n",
    "import numpy as np\n",
    "import math"
   ]
  },
  {
   "cell_type": "markdown",
   "metadata": {},
   "source": [
    "### Load the data"
   ]
  },
  {
   "cell_type": "code",
   "execution_count": 2,
   "metadata": {},
   "outputs": [
    {
     "data": {
      "text/plain": [
       "51"
      ]
     },
     "execution_count": 2,
     "metadata": {},
     "output_type": "execute_result"
    }
   ],
   "source": [
    "df=pd.DataFrame()\n",
    "df['x']=[27,30,43,58,58,37,38,46,61,62,63,32,45,59,5,10,21,5,30,39,32,25,25,48,56,30,37,49,52,20,40,21,17,31,52,51,42,31,5,12,36,52,27,17,13,57,62,42,16,8,7]\n",
    "df['y']=[68,48,67,48,27,69,46,10,33,63,69,22,35,15,6,17,10,64,15,10,39,32,55,28,37,40,52,49,64,26,30,47,63,62,33,21,41,32,25,42,16,41,23,33,13,58,42,57,57,52,38]\n",
    "N=df.shape[0]\n",
    "N"
   ]
  },
  {
   "cell_type": "code",
   "execution_count": 3,
   "metadata": {
    "scrolled": true
   },
   "outputs": [
    {
     "data": {
      "text/html": [
       "<div>\n",
       "<style scoped>\n",
       "    .dataframe tbody tr th:only-of-type {\n",
       "        vertical-align: middle;\n",
       "    }\n",
       "\n",
       "    .dataframe tbody tr th {\n",
       "        vertical-align: top;\n",
       "    }\n",
       "\n",
       "    .dataframe thead th {\n",
       "        text-align: right;\n",
       "    }\n",
       "</style>\n",
       "<table border=\"1\" class=\"dataframe\">\n",
       "  <thead>\n",
       "    <tr style=\"text-align: right;\">\n",
       "      <th></th>\n",
       "      <th>x</th>\n",
       "      <th>y</th>\n",
       "    </tr>\n",
       "  </thead>\n",
       "  <tbody>\n",
       "    <tr>\n",
       "      <th>0</th>\n",
       "      <td>27</td>\n",
       "      <td>68</td>\n",
       "    </tr>\n",
       "    <tr>\n",
       "      <th>1</th>\n",
       "      <td>30</td>\n",
       "      <td>48</td>\n",
       "    </tr>\n",
       "    <tr>\n",
       "      <th>2</th>\n",
       "      <td>43</td>\n",
       "      <td>67</td>\n",
       "    </tr>\n",
       "    <tr>\n",
       "      <th>3</th>\n",
       "      <td>58</td>\n",
       "      <td>48</td>\n",
       "    </tr>\n",
       "    <tr>\n",
       "      <th>4</th>\n",
       "      <td>58</td>\n",
       "      <td>27</td>\n",
       "    </tr>\n",
       "  </tbody>\n",
       "</table>\n",
       "</div>"
      ],
      "text/plain": [
       "    x   y\n",
       "0  27  68\n",
       "1  30  48\n",
       "2  43  67\n",
       "3  58  48\n",
       "4  58  27"
      ]
     },
     "execution_count": 3,
     "metadata": {},
     "output_type": "execute_result"
    }
   ],
   "source": [
    "df.head()"
   ]
  },
  {
   "cell_type": "markdown",
   "metadata": {},
   "source": [
    "The data has 51 data points, and each data point is x,y coordinate of a city"
   ]
  },
  {
   "cell_type": "markdown",
   "metadata": {},
   "source": [
    "### View the Cities on a graph"
   ]
  },
  {
   "cell_type": "code",
   "execution_count": 4,
   "metadata": {},
   "outputs": [],
   "source": [
    "import matplotlib.pyplot as plt"
   ]
  },
  {
   "cell_type": "code",
   "execution_count": 5,
   "metadata": {},
   "outputs": [
    {
     "data": {
      "image/png": "[encoded data removed]",
      "text/plain": [
       "<Figure size 432x288 with 1 Axes>"
      ]
     },
     "metadata": {
      "needs_background": "light"
     },
     "output_type": "display_data"
    }
   ],
   "source": [
    "plt.scatter(df.x,df.y)\n",
    "plt.title(\"Cities\")\n",
    "for City_ID in range(N):\n",
    "    plt.annotate(City_ID, (df.x[City_ID]-0.5, df.y[City_ID]+1.2),size=8)\n",
    "plt.show()"
   ]
  },
  {
   "cell_type": "markdown",
   "metadata": {},
   "source": [
    "### Objective: find a shortest path that\n",
    "1. starts from a city\n",
    "2. visit all city once\n",
    "3. come back to the city started in 1"
   ]
  },
  {
   "cell_type": "markdown",
   "metadata": {},
   "source": [
    "### Define state (path)"
   ]
  },
  {
   "cell_type": "markdown",
   "metadata": {},
   "source": [
    "$$\n",
    "S=[C_0,C_1,...,C_{N-1},C_0]\n",
    "$$\n",
    "\n",
    "where $C_i$ is a city on that path, i=0,1,2,...,N-1. Also, |S|=N+1 (as we need to go back to where we started)."
   ]
  },
  {
   "cell_type": "markdown",
   "metadata": {},
   "source": [
    "### How to evaluate a given path:\n",
    "$$\n",
    "D=\\sum_{i=0}^{N-2}\\sqrt{(x_i-x_{i+1})^2+(y_i-y_{i+1})^2}+\\sqrt{(x_{N-1}-x_{0})^2+(y_{N-1}-y_{0})^2}\n",
    "$$\n",
    "\n",
    "$\\sum_{i=0}^{N-2}\\sqrt{(x_i-x_{i+1})^2+(y_i-y_{i+1})^2}$: the total distance from $[C_0,...,C_{N-1}]$\n",
    "\n",
    "$\\sqrt{(x_{N-1}-x_{0})^2+(y_{N-1}-y_{0})^2}$: the distance from $C_{N-1}$ to $C_0$ (where the salesman started)\n",
    "\n",
    "D: total distance of the path"
   ]
  },
  {
   "cell_type": "markdown",
   "metadata": {},
   "source": [
    "# Genetic Algorithm\n",
    "$$Chromosome=[C_0,C_1,...,C_{N-1}]$$"
   ]
  },
  {
   "cell_type": "markdown",
   "metadata": {},
   "source": [
    "# badness function"
   ]
  },
  {
   "cell_type": "code",
   "execution_count": 6,
   "metadata": {},
   "outputs": [],
   "source": [
    "def badness(gene,data=df):\n",
    "    D=0\n",
    "    N=data.shape[0]\n",
    "    for idx in range(N-1):\n",
    "        D+=np.sqrt((data.loc[gene[idx],'x']-data.loc[gene[idx+1],'x'])**2+(data.loc[gene[idx],'y']-data.loc[gene[idx+1],'y'])**2)\n",
    "    D+=np.sqrt((data.loc[gene[-1],'x']-data.loc[gene[0],'x'])**2+(data.loc[gene[-1],'y']-data.loc[gene[0],'y'])**2)\n",
    "    return D"
   ]
  },
  {
   "cell_type": "code",
   "execution_count": 7,
   "metadata": {
    "scrolled": true
   },
   "outputs": [],
   "source": [
    "np.random.seed(1)\n",
    "gene=list(np.random.choice(range(N),size=N,replace=False))"
   ]
  },
  {
   "cell_type": "code",
   "execution_count": 8,
   "metadata": {},
   "outputs": [
    {
     "data": {
      "text/plain": [
       "1573.2516379726624"
      ]
     },
     "execution_count": 8,
     "metadata": {},
     "output_type": "execute_result"
    }
   ],
   "source": [
    "badness(gene)"
   ]
  },
  {
   "cell_type": "markdown",
   "metadata": {},
   "source": [
    "# mutation"
   ]
  },
  {
   "cell_type": "code",
   "execution_count": 9,
   "metadata": {},
   "outputs": [],
   "source": [
    "def mutation(input_gene):\n",
    "    gene=input_gene[:]\n",
    "    N=len(gene)\n",
    "    idx1,idx2=np.random.choice(range(N-1),size=2,replace=False)\n",
    "    mutated_part=gene[min(idx1,idx2):max(idx1,idx2)+1]\n",
    "    mutated_part.reverse()\n",
    "    gene[min(idx1,idx2):max(idx1,idx2)+1]=mutated_part\n",
    "    return gene"
   ]
  },
  {
   "cell_type": "code",
   "execution_count": 10,
   "metadata": {},
   "outputs": [
    {
     "name": "stdout",
     "output_type": "stream",
     "text": [
      "[22, 2, 49, 26, 33, 44, 30, 50, 32, 27, 3, 29, 47, 41, 39, 21, 40, 38, 19, 24, 13, 42, 17, 46, 36, 23, 4, 34, 14, 31, 10, 28, 45, 35, 18, 20, 25, 6, 7, 48, 1, 16, 0, 15, 5, 11, 9, 8, 12, 43, 37] 1573.2516379726624\n",
      "[22, 2, 49, 26, 33, 44, 30, 50, 32, 27, 3, 29, 47, 41, 39, 21, 40, 38, 19, 24, 31, 14, 34, 4, 23, 36, 46, 17, 42, 13, 10, 28, 45, 35, 18, 20, 25, 6, 7, 48, 1, 16, 0, 15, 5, 11, 9, 8, 12, 43, 37] 1594.1834512260955\n"
     ]
    }
   ],
   "source": [
    "print(gene,badness(gene))\n",
    "new_gene=mutation(gene)\n",
    "print(new_gene,badness(new_gene))"
   ]
  },
  {
   "cell_type": "markdown",
   "metadata": {},
   "source": [
    "# crossover"
   ]
  },
  {
   "cell_type": "code",
   "execution_count": 11,
   "metadata": {},
   "outputs": [],
   "source": [
    "def single_point_crossover(input_gene1,input_gene2):\n",
    "    gene1=input_gene1[:]\n",
    "    gene2=input_gene2[:]\n",
    "    crossover_point=np.random.randint(1,len(gene1)-1)\n",
    "    part2_gene1=gene1[crossover_point:]\n",
    "    part2_gene2=gene2[crossover_point:]\n",
    "\n",
    "    for c in part2_gene1:\n",
    "        gene2.remove(c)\n",
    "    new_gene2=gene2+part2_gene1\n",
    "    for c in part2_gene2:\n",
    "        gene1.remove(c)\n",
    "    new_gene1=gene1+part2_gene2\n",
    "    return new_gene1,new_gene2"
   ]
  },
  {
   "cell_type": "code",
   "execution_count": 12,
   "metadata": {},
   "outputs": [
    {
     "name": "stdout",
     "output_type": "stream",
     "text": [
      "[34, 3, 45, 5, 33, 40, 31, 39, 14, 44, 48, 29, 16, 26, 15, 22, 47, 19, 9, 1, 38, 0, 37, 36, 24, 25, 35, 17, 28, 23, 10, 41, 32, 18, 4, 42, 30, 20, 46, 43, 8, 13, 7, 11, 49, 27, 12, 2, 50, 21, 6] [44, 12, 1, 35, 26, 11, 38, 36, 23, 3, 50, 0, 29, 16, 46, 18, 28, 17, 31, 8, 47, 4, 5, 39, 7, 2, 9, 30, 15, 27, 24, 34, 6, 43, 45, 14, 40, 19, 41, 21, 25, 32, 10, 49, 33, 13, 37, 22, 48, 20, 42] 1576.6476330526677 1691.5939154105783\n",
      "[34, 3, 5, 31, 39, 44, 29, 16, 26, 15, 47, 9, 1, 38, 0, 36, 24, 35, 17, 28, 23, 18, 4, 30, 46, 43, 8, 7, 11, 27, 12, 2, 50, 6, 45, 14, 40, 19, 41, 21, 25, 32, 10, 49, 33, 13, 37, 22, 48, 20, 42] [44, 1, 35, 26, 38, 36, 23, 3, 0, 29, 16, 18, 28, 17, 31, 47, 5, 39, 9, 15, 24, 34, 45, 14, 40, 19, 41, 25, 32, 10, 33, 37, 22, 48, 4, 42, 30, 20, 46, 43, 8, 13, 7, 11, 49, 27, 12, 2, 50, 21, 6] 1569.454471113047 1602.9371919283267\n"
     ]
    }
   ],
   "source": [
    "gene1=list(np.random.choice(range(N),size=N,replace=False))\n",
    "gene2=list(np.random.choice(range(N),size=N,replace=False))\n",
    "print(gene1,gene2,badness(gene1),badness(gene2))\n",
    "new_gene1,new_gene2=single_point_crossover(gene1,gene2)\n",
    "print(new_gene1,new_gene2,badness(new_gene1),badness(new_gene2))"
   ]
  },
  {
   "cell_type": "markdown",
   "metadata": {},
   "source": [
    "# generate the initial population"
   ]
  },
  {
   "cell_type": "code",
   "execution_count": 13,
   "metadata": {},
   "outputs": [],
   "source": [
    "def populate(k,N):\n",
    "    return [list(np.random.choice(range(N),size=N,replace=False)) for _ in range(k)]"
   ]
  },
  {
   "cell_type": "code",
   "execution_count": 14,
   "metadata": {
    "scrolled": true
   },
   "outputs": [],
   "source": [
    "population=populate(50,N)"
   ]
  },
  {
   "cell_type": "markdown",
   "metadata": {},
   "source": [
    "# putting everything together"
   ]
  },
  {
   "cell_type": "code",
   "execution_count": 15,
   "metadata": {},
   "outputs": [],
   "source": [
    "k=50\n",
    "prob_crossover=0.5\n",
    "prob_mutation=0.3\n",
    "population=populate(k,N)\n",
    "result_logs=[]\n",
    "for epoch in range(500):\n",
    "    new_population=[]\n",
    "    for idx,gene in enumerate(population):\n",
    "        if np.random.random()<=prob_crossover:\n",
    "            index_list=list(range(k))\n",
    "            index_list.remove(idx)\n",
    "            gene2_idx=np.random.choice(index_list,size=1)[0]\n",
    "            gene2=population[gene2_idx]\n",
    "            gene,gene2=gene[:],gene2[:]\n",
    "            new_gene1,new_gene2=single_point_crossover(gene,gene2)\n",
    "            if np.random.random()<=prob_mutation:\n",
    "                new_gene1=mutation(new_gene1)\n",
    "            if np.random.random()<=prob_mutation:\n",
    "                new_gene2=mutation(new_gene2)                \n",
    "            new_population.append(new_gene1)\n",
    "            new_population.append(new_gene2)\n",
    "        elif np.random.random()<=prob_mutation:\n",
    "            new_gene=mutation(gene)     \n",
    "            new_population.append(new_gene)\n",
    "    population+=new_population\n",
    "    population=sorted(population,key=badness)[:k]\n",
    "    result_logs.append(badness(population[0]))    "
   ]
  },
  {
   "cell_type": "code",
   "execution_count": 16,
   "metadata": {},
   "outputs": [
    {
     "data": {
      "image/png": "[encoded data removed]",
      "text/plain": [
       "<Figure size 432x288 with 1 Axes>"
      ]
     },
     "metadata": {
      "needs_background": "light"
     },
     "output_type": "display_data"
    }
   ],
   "source": [
    "plt.plot(result_logs)\n",
    "plt.show()"
   ]
  },
  {
   "cell_type": "code",
   "execution_count": 17,
   "metadata": {},
   "outputs": [],
   "source": [
    "best_gene=population[0]"
   ]
  },
  {
   "cell_type": "code",
   "execution_count": 18,
   "metadata": {},
   "outputs": [
    {
     "data": {
      "image/png": "[encoded data removed]",
      "text/plain": [
       "<Figure size 432x288 with 1 Axes>"
      ]
     },
     "metadata": {
      "needs_background": "light"
     },
     "output_type": "display_data"
    },
    {
     "name": "stdout",
     "output_type": "stream",
     "text": [
      "path: [27, 41, 24, 46, 8, 34, 23, 35, 4, 13, 7, 19, 40, 18, 16, 44, 14, 15, 38, 50, 39, 43, 29, 21, 25, 20, 37, 42, 11, 30, 12, 36, 6, 1, 31, 48, 49, 17, 32, 0, 33, 22, 26, 47, 5, 2, 28, 10, 9, 45, 3, 27]\n",
      "the cost is 453.0472388735279\n"
     ]
    }
   ],
   "source": [
    "state=best_gene[:]+[best_gene[0]]\n",
    "plt.plot(df.loc[state,'x'],df.loc[state,'y'])\n",
    "plt.scatter(df.loc[state,'x'],df.loc[state,'y'],color=\"black\")\n",
    "plt.title(\"Cities\")\n",
    "for City_ID in range(N):\n",
    "    plt.annotate(City_ID, (df.x[City_ID]-0.5, df.y[City_ID]+1.2))\n",
    "plt.show()\n",
    "print(\"path:\",state)\n",
    "cost=badness(best_gene,df)\n",
    "print(\"the cost is {}\".format(cost))"
   ]
  }
 ],
 "metadata": {
  "kernelspec": {
   "display_name": "Python 3",
   "language": "python",
   "name": "python3"
  },
  "language_info": {
   "codemirror_mode": {
    "name": "ipython",
    "version": 3
   },
   "file_extension": ".py",
   "mimetype": "text/x-python",
   "name": "python",
   "nbconvert_exporter": "python",
   "pygments_lexer": "ipython3",
   "version": "3.7.5"
  }
 },
 "nbformat": 4,
 "nbformat_minor": 2
}
